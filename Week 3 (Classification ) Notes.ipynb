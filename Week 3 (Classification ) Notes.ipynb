{
 "cells": [
  {
   "cell_type": "markdown",
   "metadata": {},
   "source": [
    "##### An intelligent restaurent review system can be built using the machine learning classification technique.In classification technique we classify all the reviews of the customers to be either positive or negative."
   ]
  },
  {
   "cell_type": "markdown",
   "metadata": {},
   "source": [
    "###### Using sentence classifier "
   ]
  },
  {
   "cell_type": "markdown",
   "metadata": {},
   "source": [
    "All the reviews are broken into sentences and then all the sentences containing the word sushi are extracted and then \n",
    "passed through the sentence sentiment classifier.On the basis of the reults obtained ,predictions are made about sushi"
   ]
  },
  {
   "cell_type": "markdown",
   "metadata": {},
   "source": [
    "## Classifier"
   ]
  },
  {
   "cell_type": "markdown",
   "metadata": {},
   "source": [
    "\n",
    "            1.Classifying the web pages into finance,education,shopping etc\n",
    "            2.Spam filters classifying the mails into Spam or Not Spam\n",
    "                It takes many things like text of email,IP Address,Sender etc into account\n",
    "            3. In computer vision,Image of dog can be classified into different types of breeds of dog\n",
    "            4. In medical diagnosis different inputs like bp,x ray,heartbeat eyc are given to disease classifier to \n",
    "                predict the disease\n",
    "            5. Reading your mind using FMRI(Image of your brain)\n",
    "            "
   ]
  },
  {
   "cell_type": "markdown",
   "metadata": {},
   "source": [
    "### Simple threshold classifier"
   ]
  },
  {
   "cell_type": "markdown",
   "metadata": {},
   "source": [
    "Takes the input as the sentence and counting and comparing the positive and negative words in the sentence easily \n",
    "helps to classify the sentence into positive or negative.\n"
   ]
  },
  {
   "cell_type": "markdown",
   "metadata": {},
   "source": [
    "A linear classifier instead of counting and comparing words take all the words and adds wights to them like 1.5 for\n",
    "great,1 for good,-1 for bad,-2.1 for terrible etc.And then scoring is done on the basis of the sums of all the weights of the sentence and then comparing the score."
   ]
  },
  {
   "cell_type": "markdown",
   "metadata": {},
   "source": [
    "* If score>0 : positive sentence\n",
    "* If score<0 : negative sentence"
   ]
  },
  {
   "cell_type": "markdown",
   "metadata": {},
   "source": [
    "### Decision boundary"
   ]
  },
  {
   "cell_type": "markdown",
   "metadata": {},
   "source": [
    "It is the boundary made by the data in such a fashion that everything on one side is positive and everything on \n",
    "the other side is negative.If the decision boundary is a line then it is called a LINEAR CLASSIFIER or a LINEAR DECISION BOUNDARY."
   ]
  },
  {
   "cell_type": "markdown",
   "metadata": {},
   "source": [
    "FOR LINEAR CLASSIFIER:\n",
    "    * When 2 weights are non zero -- LINE\n",
    "    * When 3 weights are non zero -- PLANE\n",
    "    * When many weights are non zero -- HYPERPLANE"
   ]
  },
  {
   "cell_type": "markdown",
   "metadata": {},
   "source": [
    "### ERRORS IN CLASSIFICATION\n"
   ]
  },
  {
   "cell_type": "markdown",
   "metadata": {},
   "source": [
    "Again in the classifier we have training data and the test data,training data is the one where we make the classifier\n",
    "to learn something using the weights.\n"
   ]
  },
  {
   "cell_type": "markdown",
   "metadata": {},
   "source": [
    "* Error measures the fraction of the the mistakes\n",
    "* Error = No of mistakes / Total no of sentences\n",
    "* Accuracy=No of correct / Total no of sentences\n"
   ]
  },
  {
   "cell_type": "markdown",
   "metadata": {},
   "source": [
    "##### What is a good accuracy?"
   ]
  },
  {
   "cell_type": "markdown",
   "metadata": {},
   "source": [
    "* For binary classification:\n",
    "        Accuracy=0.5\n",
    "* For k class:\n",
    "        Accuracy = 1/k"
   ]
  },
  {
   "cell_type": "markdown",
   "metadata": {},
   "source": [
    "You need to beat the accuracy of 1/k in k class accuracy, otherwise the approach of classification is pointless."
   ]
  },
  {
   "cell_type": "markdown",
   "metadata": {},
   "source": [
    "#### Concepts of false +ve,false -ve,true +ve,true -ve\n",
    "Use the confusion matrix"
   ]
  },
  {
   "cell_type": "markdown",
   "metadata": {},
   "source": [
    "### How much data does a model need to learn from??"
   ]
  },
  {
   "cell_type": "markdown",
   "metadata": {},
   "source": [
    "The more the merrier,In practice more complex models require more data.Empirical analysis can provide guidance.\n",
    "TEST error decreases as the amount of training data increases i.e both are inversely proportional"
   ]
  },
  {
   "cell_type": "markdown",
   "metadata": {},
   "source": [
    "#### What is a bias of the model?\n"
   ]
  },
  {
   "cell_type": "markdown",
   "metadata": {},
   "source": [
    "The test error of the data decreases as the amount of training data increases but the test error never becomes zero.\n",
    "The difference between the minimum test error and the x axis is called the bias of the data.\n",
    "* More complex models tend to have less bias because more complex models can consider pairs of words (bigrams) like not good and then also consider them so they are potentially more accurate also they need more data to learn"
   ]
  },
  {
   "cell_type": "markdown",
   "metadata": {},
   "source": [
    "### Confidence level of classifiers"
   ]
  },
  {
   "cell_type": "markdown",
   "metadata": {},
   "source": [
    "P(y/x) where y is the output label and x is the input label"
   ]
  },
  {
   "cell_type": "code",
   "execution_count": null,
   "metadata": {},
   "outputs": [],
   "source": []
  }
 ],
 "metadata": {
  "kernelspec": {
   "display_name": "turicreate",
   "language": "python",
   "name": "turicreate"
  },
  "language_info": {
   "codemirror_mode": {
    "name": "ipython",
    "version": 3
   },
   "file_extension": ".py",
   "mimetype": "text/x-python",
   "name": "python",
   "nbconvert_exporter": "python",
   "pygments_lexer": "ipython3",
   "version": "3.6.5"
  }
 },
 "nbformat": 4,
 "nbformat_minor": 2
}
