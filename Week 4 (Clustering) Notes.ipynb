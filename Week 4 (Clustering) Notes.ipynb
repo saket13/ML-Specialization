{
 "cells": [
  {
   "cell_type": "markdown",
   "metadata": {},
   "source": [
    "Clustering's best example is the document retieval task"
   ]
  },
  {
   "cell_type": "markdown",
   "metadata": {},
   "source": [
    "#### Word Count Document Representation"
   ]
  },
  {
   "cell_type": "markdown",
   "metadata": {},
   "source": [
    "Bag Of Words Model:\n",
    "    * Ignore order of words\n",
    "    * Count no of instances of each word in vocabulary"
   ]
  },
  {
   "cell_type": "markdown",
   "metadata": {},
   "source": [
    "Emphasizing rare words and frequent words"
   ]
  },
  {
   "cell_type": "markdown",
   "metadata": {},
   "source": [
    "Important words :\n",
    "    * Appears frequently in document(common locally)\n",
    "    * Appears rarely in corpus\n",
    "\n",
    "Term Frequency - The no of different words appearing in the docs and their frequency 'Messi'- 5 times\n",
    "                                                                                     'Ronaldo' -7 times\n",
    "                                                                                     \n",
    "\n",
    "Inverse document frequency\n",
    "    * For word in many docs---log (# docs/ 1 + # docs using word)\n",
    "                              log(large/1+large)\n",
    "                              which is approximately zero\n",
    "    * For rare word --- log(large/1+small)=log(large)\n",
    "                         which is a large no\n",
    "\n",
    "Then we calculate tf*idf array for the representation\n"
   ]
  },
  {
   "cell_type": "markdown",
   "metadata": {},
   "source": [
    "### Nearest Neighbour Search"
   ]
  },
  {
   "cell_type": "markdown",
   "metadata": {},
   "source": [
    "* Input : Query Article\n",
    "* Output : Most similar article in corpus\n",
    "\n",
    "    ALGORITHM:\n",
    "        1. Search over each article in the corpus\n",
    "        2. Compute s=Similarity\n",
    "        3. If s>Best_S we record the new s as the best_s by setting Best_s=s\n",
    "        4.Then Return Best_s\n",
    "\n",
    "##### k Nearest Neighbour Search\n",
    "    \n",
    "    We maintain a priority queue to provide the users with the k number of most related articles\n",
    "    \n"
   ]
  },
  {
   "cell_type": "markdown",
   "metadata": {},
   "source": [
    "### Clustering \n",
    "\n",
    "    * Labels provided like sports,finance,education etc then it is known as multiclass classification\n",
    "        ex - Google news etc\n",
    "    * This type of problem comes under Supervised learning\n",
    "    \n",
    "    If labels are not given:\n",
    "        * Want to uncover cluster structure \n",
    "        * This type of problem comes under Unsupervised learning\n",
    "        * IN this case clusters are given different names and then nearest neighbours algo is applied to tackle the problem"
   ]
  },
  {
   "cell_type": "markdown",
   "metadata": {},
   "source": [
    "#### What defines a cluster and and how to assign new observations\n",
    "    * All the clusters are defined by their unique shape/spread and size\n",
    "    * New observation is checked for the nearest to which cluster and accordingly it is assigned\n",
    "    "
   ]
  },
  {
   "cell_type": "markdown",
   "metadata": {},
   "source": [
    "### k means algorithm( Algo used for doing clustering)"
   ]
  },
  {
   "cell_type": "markdown",
   "metadata": {},
   "source": [
    "1. Initialize k cluster centres\n",
    "2. Assign observations to the closest cluster centre\n",
    "3. Revise cluster centres as mean of assigned centres\n"
   ]
  },
  {
   "cell_type": "markdown",
   "metadata": {},
   "source": [
    "### Applications of Clustering\n",
    "\n",
    "    * Better characterize patients and diseases\n",
    "    * Clustering images\n",
    "    * Discover product categories from purchase histories\n",
    "    * Discovering similar neighbourhoods\n",
    "    * Neighbourhood weather reports\n",
    "    "
   ]
  },
  {
   "cell_type": "code",
   "execution_count": null,
   "metadata": {},
   "outputs": [],
   "source": []
  }
 ],
 "metadata": {
  "kernelspec": {
   "display_name": "turicreate",
   "language": "python",
   "name": "turicreate"
  },
  "language_info": {
   "codemirror_mode": {
    "name": "ipython",
    "version": 3
   },
   "file_extension": ".py",
   "mimetype": "text/x-python",
   "name": "python",
   "nbconvert_exporter": "python",
   "pygments_lexer": "ipython3",
   "version": "3.6.5"
  }
 },
 "nbformat": 4,
 "nbformat_minor": 2
}
