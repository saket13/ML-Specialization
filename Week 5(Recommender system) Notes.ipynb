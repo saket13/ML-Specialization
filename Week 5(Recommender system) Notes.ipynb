{
 "cells": [
  {
   "cell_type": "markdown",
   "metadata": {},
   "source": [
    "### Recommendation System examples"
   ]
  },
  {
   "cell_type": "markdown",
   "metadata": {},
   "source": [
    "* Youtube,Amazon,Netflix,Pandora,Facebook (Friend Recommendation) etc\n",
    "* Recommendations also change over time"
   ]
  },
  {
   "cell_type": "markdown",
   "metadata": {},
   "source": [
    "### Simplest Approach : Popularity"
   ]
  },
  {
   "cell_type": "markdown",
   "metadata": {},
   "source": [
    "* Rank by global popularity like most emailed,most blogged,most searched etc\n",
    "* Limitation - No personalization\n",
    "\n",
    "* Classification Approach\n",
    "* Limitation - 1. Features may not be available( only output is Yes /No )\n",
    "               2. Often does not perform as well as collaborative filtering methods\n",
    "               \n",
    "* Co - occurence matrix \n",
    "* People who bought this also bought this "
   ]
  },
  {
   "cell_type": "markdown",
   "metadata": {},
   "source": [
    "###### MATRIX C-- It stores the no of the users whou bought both items i & j (#items x #items) matrix\n",
    "like People who bought diapers also bought baby wipes"
   ]
  },
  {
   "cell_type": "markdown",
   "metadata": {},
   "source": [
    "#### Making recommendations using co occurences\n",
    "Example - 1. If a user has purchased diapers\n",
    "          2. Look at the diapers row of matrix\n",
    "          3. Recommend other items with largest counts\n",
    "          - Baby wipes,milk,baby food etc"
   ]
  },
  {
   "cell_type": "markdown",
   "metadata": {},
   "source": [
    "### Normalize co-occurences Similarity matrix"
   ]
  },
  {
   "cell_type": "markdown",
   "metadata": {},
   "source": [
    "Jaccard Similarity: normalizes by popularity\n",
    "- Who purchased i and j divided by who purchased i or j"
   ]
  },
  {
   "cell_type": "markdown",
   "metadata": {},
   "source": [
    "Many other similarity metrics possible i.e cosine similarity"
   ]
  },
  {
   "cell_type": "markdown",
   "metadata": {},
   "source": [
    "Weighted Average of Purchased Items\n",
    "* User bought items (diapers,milk)\n",
    " - Compute user specific score for each item j in inevntory by combining similarities :\n",
    "     Score(user,baby wipes)=1/2(S babywipes,diapers + S baby wipes,milk)\n",
    " - Could also weight recent purchases more\n",
    "* Sort score (user,j) and find item j with highest similarity"
   ]
  },
  {
   "cell_type": "markdown",
   "metadata": {},
   "source": [
    "### Limitations "
   ]
  },
  {
   "cell_type": "markdown",
   "metadata": {},
   "source": [
    "* Does not utilize :\n",
    "    - Context (time of day)\n",
    "    - User features(age)\n",
    "    - Product features(baby vs electronics)\n",
    "* Cold Start Problem\n",
    "    - What if a new user or prodcuct arrives?"
   ]
  },
  {
   "cell_type": "markdown",
   "metadata": {},
   "source": [
    "### Movie Recommendation"
   ]
  },
  {
   "cell_type": "markdown",
   "metadata": {},
   "source": [
    "Users watch movies and rate them\n",
    "Each user only watch a few of the available movies"
   ]
  },
  {
   "cell_type": "markdown",
   "metadata": {},
   "source": [
    "#### Matrix completion problem"
   ]
  },
  {
   "cell_type": "markdown",
   "metadata": {},
   "source": [
    "* Data: Users score some movies\n",
    "    * Rating (u,v) known for black cells \n",
    "    * Rating (u,v) unknown for white cells\n",
    "* Goal:\n",
    "    * Fill missing data"
   ]
  },
  {
   "cell_type": "markdown",
   "metadata": {},
   "source": [
    "#### Suppose we had d topics for each user and movie\n",
    "    * Describe movie v with topics Rv ( How much is it action,romance,drama etc)\n",
    "        ex- Rv=[0.3,0.01,1.5]\n",
    "    * Describe user u with topics Lu (How much user likes action,romance,drama etc)\n",
    "        ex- Lu=[2.5,0,0.8]\n",
    "    * Rating (u,v) is the product of the two vectors\n",
    "\n",
    "* Recommendations :Sort movies users has not watched by rating (u,v)"
   ]
  },
  {
   "cell_type": "markdown",
   "metadata": {},
   "source": [
    "### Predictions in matrix form\n",
    " [L] X [R']\n",
    " * L contains the Lu vectors \n",
    " * R' contains the Rv vectors"
   ]
  },
  {
   "cell_type": "markdown",
   "metadata": {},
   "source": [
    "* Only use observed values to estimate topic vectors Lu and Rv\n",
    "* Use estimated Lu and Rv for recommendations\n"
   ]
  },
  {
   "cell_type": "markdown",
   "metadata": {},
   "source": [
    "### Matrix Factorization\n",
    "RSS(L,R)=(Rating(u,v)-<Lu,Rv>)**2 +[include all (u',v' pairs where rating(u',v') are available]"
   ]
  },
  {
   "cell_type": "markdown",
   "metadata": {},
   "source": [
    "Limitation of Matrix Factorization:\n",
    "    * Cold Start Problem :\n",
    "        - This model still can not handle a new user or movie\n",
    "        \n",
    "        "
   ]
  },
  {
   "cell_type": "markdown",
   "metadata": {},
   "source": [
    "## A performance metric for recommender systems\n",
    "* What is a Recall?\n",
    "    * #liked and shown/#liked\n",
    "* What is a Precision?\n",
    "    * #liked and shown/#shown\n",
    "* How to maximize recall?\n",
    "    * Just recommend everything but now precision decreases\n",
    "* Optimal Recommender\n",
    "    * Show all the products I like but only the products I like"
   ]
  },
  {
   "cell_type": "code",
   "execution_count": null,
   "metadata": {},
   "outputs": [],
   "source": []
  }
 ],
 "metadata": {
  "kernelspec": {
   "display_name": "turicreate",
   "language": "python",
   "name": "turicreate"
  },
  "language_info": {
   "codemirror_mode": {
    "name": "ipython",
    "version": 3
   },
   "file_extension": ".py",
   "mimetype": "text/x-python",
   "name": "python",
   "nbconvert_exporter": "python",
   "pygments_lexer": "ipython3",
   "version": "3.6.5"
  }
 },
 "nbformat": 4,
 "nbformat_minor": 2
}
