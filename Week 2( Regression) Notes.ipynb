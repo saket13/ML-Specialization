{
 "cells": [
  {
   "cell_type": "markdown",
   "metadata": {},
   "source": [
    "# Predicting house prices"
   ]
  },
  {
   "cell_type": "markdown",
   "metadata": {},
   "source": [
    "How to predict the price of the house?\n",
    "* We need to look for the recent house sales prizes\n",
    "* Relationship between the features of the house(independent variables/features) and its price (dependent feature)\n"
   ]
  },
  {
   "cell_type": "markdown",
   "metadata": {},
   "source": [
    "## We try to fit a line in our given model which represents the cost prices of the old purchases of the houses"
   ]
  },
  {
   "cell_type": "markdown",
   "metadata": {},
   "source": [
    "h(x)=mx+b"
   ]
  },
  {
   "cell_type": "markdown",
   "metadata": {},
   "source": [
    "Now fitting a line is easy but how to know which line best fits the model so we use something called the # \"Cost of Using a given line\"\n",
    "Also known as :\n",
    "    # RESIDUAL SUM OF SQUARES(RSS)"
   ]
  },
  {
   "cell_type": "markdown",
   "metadata": {},
   "source": [
    "RSS = Real price of the house - ( Calculated price of the house )\n",
    "\n",
    "RSS = (y(i)- ( mx(i) + b ))**2\n",
    "\n",
    "Now we want to minimize this Residual sum of squares to find the best possible line\n"
   ]
  },
  {
   "cell_type": "markdown",
   "metadata": {},
   "source": [
    "# Adding higher order effects"
   ]
  },
  {
   "cell_type": "markdown",
   "metadata": {},
   "source": [
    "Now it may be possible that the best possible curve to the data may not be a straight line.It may be a quadratic\n",
    "function or a parabola.\n",
    "Again it is called the same as the problem of the linear regression.\n",
    "\n",
    "h(x)=mx**2+nx+b\n",
    "\n",
    "Once again we go on to minimize that RSS that the curve offers."
   ]
  },
  {
   "cell_type": "markdown",
   "metadata": {},
   "source": [
    "# Overfitting "
   ]
  },
  {
   "cell_type": "markdown",
   "metadata": {},
   "source": [
    "We may also have reached to a point in the process of the minimization of the curve that we make a 13th or some curve\n",
    "like that passes through all the points in the curve but this curve is not recommended"
   ]
  },
  {
   "cell_type": "markdown",
   "metadata": {},
   "source": [
    "This 13th order curve minimizes the curve but it results into very bad predictions."
   ]
  },
  {
   "cell_type": "markdown",
   "metadata": {},
   "source": [
    "# How to choose model order/complexity"
   ]
  },
  {
   "cell_type": "markdown",
   "metadata": {},
   "source": [
    "## Simulate predictions\n",
    "\n",
    "* Remove some of the houses\n",
    "* Fit model on the remaining houses\n",
    "* Predict heldout houses and compare\n"
   ]
  },
  {
   "cell_type": "markdown",
   "metadata": {},
   "source": [
    "### Training error\n",
    "* It is the error obtained by the looking at the original price - the price obtained by the regression function's algorithm.\n",
    "Then we minimize the training error\n",
    "\n",
    "* This is exclusively done in the training set"
   ]
  },
  {
   "cell_type": "markdown",
   "metadata": {},
   "source": [
    "### Test error\n",
    "\n",
    "* Also known as the Residual sum of squares.\n",
    "* This is applied on the test data."
   ]
  },
  {
   "cell_type": "markdown",
   "metadata": {},
   "source": [
    "# Training/Test curves"
   ]
  },
  {
   "cell_type": "markdown",
   "metadata": {},
   "source": [
    "If we draw a graph between the error and the model complexity(linear,quadratic,...,13th order), we\n",
    "observe that the error is an exponentially decreeasing function where it becomes zero in the 13th order model."
   ]
  },
  {
   "cell_type": "markdown",
   "metadata": {},
   "source": [
    "That will be our training error"
   ]
  },
  {
   "cell_type": "markdown",
   "metadata": {},
   "source": [
    "### THERE MAY ALSO BE MANY FEATURES ASSOCIATED TO THE MODEL INSTEAD OF A SINGLE FEATURE\n"
   ]
  },
  {
   "cell_type": "markdown",
   "metadata": {},
   "source": [
    "APPLICATIONS OF LINEAR REGRESSION--\n",
    "1. SALARY CALCULATION\n",
    "2. SMART HOUSES\n",
    "3. STOCK PRICE PREDICTION\n"
   ]
  },
  {
   "cell_type": "code",
   "execution_count": null,
   "metadata": {},
   "outputs": [],
   "source": []
  }
 ],
 "metadata": {
  "kernelspec": {
   "display_name": "turicreate",
   "language": "python",
   "name": "turicreate"
  },
  "language_info": {
   "codemirror_mode": {
    "name": "ipython",
    "version": 3
   },
   "file_extension": ".py",
   "mimetype": "text/x-python",
   "name": "python",
   "nbconvert_exporter": "python",
   "pygments_lexer": "ipython3",
   "version": "3.6.5"
  }
 },
 "nbformat": 4,
 "nbformat_minor": 2
}
